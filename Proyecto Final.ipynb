{
 "cells": [
  {
   "cell_type": "markdown",
   "metadata": {},
   "source": [
    "<img style=\"float: left; margin: 30px 15px 15px 15px;\" src=\"https://pngimage.net/wp-content/uploads/2018/06/logo-iteso-png-5.png\" width=\"300\" height=\"500\" /> \n",
    "    \n",
    "    \n",
    "### <font color='navy'> Simulación de procesos financieros. \n",
    "\n",
    "**Nombres:** Navarro Silva José Tonatiuh, Muñoz Pablo Humberto, Rodríguez Rodríguez Ana Esmeralda.\n",
    "\n",
    "**Fecha:** 24 de Junio del 2021\n",
    "\n",
    "**Expediente** : 722399,   , 709288\n",
    "**Profesor:** Oscar David Jaramillo Zuluaga.\n",
    "    \n",
    "**Link Github**: https://github.com/if722399/Proyecto-SPF\n",
    "\n",
    "# Proyecto TEMA-2"
   ]
  },
  {
   "cell_type": "markdown",
   "metadata": {},
   "source": [
    "<img style=\"float: right; margin: 0px 0px 15px 15px;\" src=\"https://upload.wikimedia.org/wikipedia/commons/b/b6/Proyecto_en_construccion.jpg\" width=\"300px\" height=\"100px\" />\n",
    "\n",
    "\n",
    "# Proyecto Módulo 2- Guía.\n",
    "> Se especifican los componentes básicos que deberá tener cada proyecto. El proyecto debe ser un problema que utilice datos reales, ya sea de una empresa física real o de alguna página de internet que proporcione bases de datos confiables. Con la información obtenida, se pretende utilizar todas las herramientas vistas durante el curso para la correcta modelación y simulación del cierto problema con ciertas variables de interés."
   ]
  },
  {
   "cell_type": "markdown",
   "metadata": {},
   "source": [
    "### 1.1 Título\n",
    "## Clientes óptimos para tarjetas de crédito"
   ]
  },
  {
   "cell_type": "markdown",
   "metadata": {},
   "source": [
    "### 1.2 Objetivos.\n",
    "> #### 1.1 Objetivo general.\n",
    ">  -  Predecir cuales son los tipos de usuarios más óptimos en el uso de tarjetas de crédito\n",
    "\n",
    "> #### 1.2 Objetivos específicos.  \n",
    ">  - Analizar la base de datos de usuarios que usan tarjetas de crédito\n",
    ">  - Proponer categorías que se consideran importantes para obtener al mejor usuario.\n",
    ">  - Simular la relación que tienen dichas categorías con el mejor usuario.\n",
    ">  - Encontrar a los clientes óptimos"
   ]
  },
  {
   "cell_type": "markdown",
   "metadata": {},
   "source": [
    "### 1.3 Definición del problema.\n",
    "\n",
    "Resulta crucial para las empresas crediticias realizar un chequeo de sus clientes potenciales antes de relacionarse con ellos, por eso mismo con la intención de minimizar los riesgos para quienes ofrecen líneas de crédito nace este proyecto que permitirá calificar a los clientes a partir de puntos relevantes para la empresa. \n",
    "\n",
    "De esta forma la empresa crediticia podrá tener un mejor control de sus créditos y los clientes podrán disponer de mejores líneas de crédito ya que se han considerado como un cliente no problemático.\n"
   ]
  },
  {
   "cell_type": "code",
   "execution_count": 1,
   "metadata": {},
   "outputs": [],
   "source": [
    "# Aqui va el diagrama"
   ]
  },
  {
   "cell_type": "markdown",
   "metadata": {},
   "source": [
    "### 1.4 Nodos y variables que se decidieron simular y porqué\n",
    "\n",
    "- Probabilidad de mejor uso por su edad: La edad nos dice mucho sobre el uso de crédito de una persona, la diferencia generacional puede influir en cómo administran el crédito y su conocimiento de uso. \n",
    "- Probabilidad de mejor uso por nivel de educación: Creemos que el nivel de educación podría tener una relación importante con los ingresos de los usuarios.\n",
    "- Probabilidad de mejor uso por sus ingresos: Consideramos que la cantidad de dinero que uno recibe tiene un gran impacto en la facilidad de pago.\n",
    "- Probabilidad de mejor uso por la dependencia de personas: Contemplamos que muchas veces el crédito adquirido es usado de forma diferente dependiendo de cuántas personas dependen del usuario."
   ]
  },
  {
   "cell_type": "markdown",
   "metadata": {},
   "source": [
    "### 1.5 Definición de hipótesis y supuestos.\n",
    "\n",
    "Objeto de estudio: \n",
    "Usuario de tarjetas de crédito\n",
    "\n",
    "Hipótesis:\n",
    "\n",
    "- Los usuarios de los que dependen más personas hacen un uso mayor al crédito.\n",
    "- Los usuarios arriba de 30 años tienen más estabilidad y facilidad de pago\n",
    "- Los usuarios con un nivel de educación superior hacen mejor uso del crédito\n",
    "- Los usuarios con mayor ingresos obtienen mejor limite de credito\n",
    "\n",
    "Supuestos: \n",
    "\n",
    "- El número de dependientes del cliente no aumentará\n",
    "- La gente no perderá su empleo durante el tiempo del crédito\n",
    "- La información recibida es verídica  \n",
    "- Las variables que simularemos son las más significativas al uso de crédito"
   ]
  },
  {
   "cell_type": "markdown",
   "metadata": {},
   "source": [
    "### 1.6 Obtención de bases de datos\n",
    "\n",
    "La base de datos se obtuvo del siguiente enlace: https://leaps.analyttica.com/home. Este sitio fue creado para aprender, aplicar y resolver problemas de empresas, en este caso, bancarias a través del uso de ciencia de datos.\n",
    "La base de datos muestra un listado de clientes generados con el nivel de escolaridad del cliente, así como su ingreso anual, el número de personas a su cargo, su edad y el tiempo de relación con el banco.\n",
    "\n",
    "Esta misma base de datos puede ser encontrada en kaggle en el siguiente enlace: https://www.kaggle.com/sakshigoyal7/credit-card-customers "
   ]
  },
  {
   "cell_type": "code",
   "execution_count": 12,
   "metadata": {},
   "outputs": [],
   "source": [
    "#Librerias\n",
    "import numpy as np\n",
    "import matplotlib.pyplot as plt\n",
    "import pandas as pd"
   ]
  },
  {
   "cell_type": "code",
   "execution_count": 13,
   "metadata": {},
   "outputs": [
    {
     "data": {
      "text/html": [
       "<div>\n",
       "<style scoped>\n",
       "    .dataframe tbody tr th:only-of-type {\n",
       "        vertical-align: middle;\n",
       "    }\n",
       "\n",
       "    .dataframe tbody tr th {\n",
       "        vertical-align: top;\n",
       "    }\n",
       "\n",
       "    .dataframe thead th {\n",
       "        text-align: right;\n",
       "    }\n",
       "</style>\n",
       "<table border=\"1\" class=\"dataframe\">\n",
       "  <thead>\n",
       "    <tr style=\"text-align: right;\">\n",
       "      <th></th>\n",
       "      <th>Customer_Age</th>\n",
       "      <th>Dependent_count</th>\n",
       "      <th>Education_Level</th>\n",
       "      <th>Income_Category</th>\n",
       "    </tr>\n",
       "  </thead>\n",
       "  <tbody>\n",
       "    <tr>\n",
       "      <td>0</td>\n",
       "      <td>45</td>\n",
       "      <td>3</td>\n",
       "      <td>High School</td>\n",
       "      <td>$60K - $80K</td>\n",
       "    </tr>\n",
       "    <tr>\n",
       "      <td>1</td>\n",
       "      <td>49</td>\n",
       "      <td>5</td>\n",
       "      <td>Graduate</td>\n",
       "      <td>Less than $40K</td>\n",
       "    </tr>\n",
       "    <tr>\n",
       "      <td>2</td>\n",
       "      <td>51</td>\n",
       "      <td>3</td>\n",
       "      <td>Graduate</td>\n",
       "      <td>$80K - $120K</td>\n",
       "    </tr>\n",
       "    <tr>\n",
       "      <td>3</td>\n",
       "      <td>40</td>\n",
       "      <td>4</td>\n",
       "      <td>High School</td>\n",
       "      <td>Less than $40K</td>\n",
       "    </tr>\n",
       "    <tr>\n",
       "      <td>4</td>\n",
       "      <td>40</td>\n",
       "      <td>3</td>\n",
       "      <td>Uneducated</td>\n",
       "      <td>$60K - $80K</td>\n",
       "    </tr>\n",
       "    <tr>\n",
       "      <td>...</td>\n",
       "      <td>...</td>\n",
       "      <td>...</td>\n",
       "      <td>...</td>\n",
       "      <td>...</td>\n",
       "    </tr>\n",
       "    <tr>\n",
       "      <td>10122</td>\n",
       "      <td>50</td>\n",
       "      <td>2</td>\n",
       "      <td>Graduate</td>\n",
       "      <td>$40K - $60K</td>\n",
       "    </tr>\n",
       "    <tr>\n",
       "      <td>10123</td>\n",
       "      <td>41</td>\n",
       "      <td>2</td>\n",
       "      <td>Unknown</td>\n",
       "      <td>$40K - $60K</td>\n",
       "    </tr>\n",
       "    <tr>\n",
       "      <td>10124</td>\n",
       "      <td>44</td>\n",
       "      <td>1</td>\n",
       "      <td>High School</td>\n",
       "      <td>Less than $40K</td>\n",
       "    </tr>\n",
       "    <tr>\n",
       "      <td>10125</td>\n",
       "      <td>30</td>\n",
       "      <td>2</td>\n",
       "      <td>Graduate</td>\n",
       "      <td>$40K - $60K</td>\n",
       "    </tr>\n",
       "    <tr>\n",
       "      <td>10126</td>\n",
       "      <td>43</td>\n",
       "      <td>2</td>\n",
       "      <td>Graduate</td>\n",
       "      <td>Less than $40K</td>\n",
       "    </tr>\n",
       "  </tbody>\n",
       "</table>\n",
       "<p>10127 rows × 4 columns</p>\n",
       "</div>"
      ],
      "text/plain": [
       "      Customer_Age Dependent_count Education_Level Income_Category\n",
       "0               45               3     High School     $60K - $80K\n",
       "1               49               5        Graduate  Less than $40K\n",
       "2               51               3        Graduate    $80K - $120K\n",
       "3               40               4     High School  Less than $40K\n",
       "4               40               3      Uneducated     $60K - $80K\n",
       "...            ...             ...             ...             ...\n",
       "10122           50               2        Graduate     $40K - $60K\n",
       "10123           41               2         Unknown     $40K - $60K\n",
       "10124           44               1     High School  Less than $40K\n",
       "10125           30               2        Graduate     $40K - $60K\n",
       "10126           43               2        Graduate  Less than $40K\n",
       "\n",
       "[10127 rows x 4 columns]"
      ]
     },
     "execution_count": 13,
     "metadata": {},
     "output_type": "execute_result"
    }
   ],
   "source": [
    "data = pd.read_csv('BankChurners.csv')\n",
    "\n",
    "clean_data = pd.DataFrame()\n",
    "# Filtrar las variables a analizar\n",
    "clean_data['Customer_Age'] = data.T.loc['Customer_Age']\n",
    "clean_data['Dependent_count'] = data.T.loc['Dependent_count']\n",
    "clean_data['Education_Level'] = data.T.loc['Education_Level']\n",
    "clean_data['Income_Category'] = data.T.loc['Income_Category']\n",
    "\n",
    "clean_data"
   ]
  },
  {
   "cell_type": "markdown",
   "metadata": {},
   "source": [
    "\n",
    "### 1.7 Visualización de resultados de simulación.\n",
    "> Se deben simular al menos 4  \"nodos\" o \"escenarios\" en tu problema. Para la segunda entrega debes haber elaborado un programa que simule dos de ellos, los primeros dos de tu diagrama.\n",
    "> Para la entrega final deben de tener los 4 nodos con todas sus simulaciones.\n",
    "\n",
    "### 1.6 Conclusiones.\n",
    "> Mucho cuidado, las conclusiones no son cualquier cosa. Se debe concluir respecto a los objetivos planteados de acuerdo a los resultados obtenidos.\n",
    "\n",
    "### 1.7 Referencias.\n",
    "> Citar (en formato APA) la bibliografía utilizada."
   ]
  },
  {
   "cell_type": "markdown",
   "metadata": {},
   "source": [
    "___\n",
    "## 2. Especificaciones adicionales.\n",
    "En el grupo deben haber mínimo dos integrantes y máximo tres integrantes. Para propósitos logísticos nada más, por favor enumérense como *integrante 1*, *integrante 2* e *integrante 3*.\n",
    "\n",
    "### 2.1 Notebook de jupyter. \n",
    "> Los anteriores numerales los deben desarrollar todos en un notebook de jupyter y llamarlo de la siguiente manera `ProyectoModulo1_ApellidoN1_ApellidoN2_ApellidoN3`, donde `ApellidoNi` hace referencia al apellido materno y la inicial del primer nombre del integrante `i`.\n",
    "\n",
    "### 2.2 Proyecto en `GitHub`.\n",
    "> El integrante 1 deberá crear un proyecto en `GitHub` llamado **proyecto_modulo1**, donde tendrán todos los archivos relacionados con el proyecto. Los demás integrantes deben hacer un *fork* del proyecto, seguir el proyecto principal con `GitKraken` y hacer al menos dos contribuciones con *pull request* (como se hizo en la tarea). En el proyecto, deben incluir el repositorio remoto del integrante 1.\n",
    "\n",
    "### 2.3 Presentación.\n",
    "> Recuerden que la nota del proyecto es mitad el trabajo, y mitad la presentación. Deben hacer una presentación ya sea en power point o utlizando un notebook de python para presentar el trabajo durante un horario de clase que se será posteriomente definido. La presentación, además de llevar todos los componentes básicos descritos en el entregable, debe llevar una tabla de contenido.\n",
    "> - Presentación: 10 minutos.\n",
    "> - Seguir estas recomendaciones: https://es.slideshare.net/MeireComputacion/power-point-pautas-para-una-buen-trabajo"
   ]
  },
  {
   "cell_type": "markdown",
   "metadata": {},
   "source": [
    "<script>\n",
    "  $(document).ready(function(){\n",
    "    $('div.prompt').hide();\n",
    "    $('div.back-to-top').hide();\n",
    "    $('nav#menubar').hide();\n",
    "    $('.breadcrumb').hide();\n",
    "    $('.hidden-print').hide();\n",
    "  });\n",
    "</script>\n",
    "\n",
    "<footer id=\"attribution\" style=\"float:right; color:#808080; background:#fff;\">\n",
    "Created with Jupyter by Esteban Jiménez Rodríguez.\n",
    "</footer>"
   ]
  }
 ],
 "metadata": {
  "kernelspec": {
   "display_name": "Python 3",
   "language": "python",
   "name": "python3"
  },
  "language_info": {
   "codemirror_mode": {
    "name": "ipython",
    "version": 3
   },
   "file_extension": ".py",
   "mimetype": "text/x-python",
   "name": "python",
   "nbconvert_exporter": "python",
   "pygments_lexer": "ipython3",
   "version": "3.7.4"
  }
 },
 "nbformat": 4,
 "nbformat_minor": 2
}
